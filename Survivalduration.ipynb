{
  "nbformat": 4,
  "nbformat_minor": 0,
  "metadata": {
    "colab": {
      "provenance": []
    },
    "kernelspec": {
      "name": "python3",
      "display_name": "Python 3"
    },
    "language_info": {
      "name": "python"
    }
  },
  "cells": [
    {
      "cell_type": "code",
      "execution_count": null,
      "metadata": {
        "id": "6HbqF5Ug4gd5",
        "colab": {
          "base_uri": "https://localhost:8080/"
        },
        "outputId": "f6b1d72d-bd24-4f37-8340-0608da5ff669"
      },
      "outputs": [
        {
          "output_type": "stream",
          "name": "stdout",
          "text": [
            "What's your age? 45\n",
            "Please choose time unit: Months, Weeks, Days, Hours, Minutes, Seconds.\n",
            "Note: You can write the first letter or the full name of the time unit. seconds\n",
            "You have lived for 1419120000 Secondss.\n"
          ]
        }
      ],
      "source": [
        "# Define the class SurvivalDurationCalculator\n",
        "class SurvivalDurationCalculator:\n",
        "    # Constructor to initialize the age\n",
        "    def __init__(self, age):\n",
        "        self.age = age\n",
        "\n",
        "# Method to calculate duration based on the chosen unit\n",
        "    def calculate_duration(self, unit):\n",
        "        if unit.lower() in ['m', 'months']:\n",
        "            return self.age * 12  # 1 year = 12 months\n",
        "        elif unit.lower() in ['w', 'weeks']:\n",
        "            return self.age * 52  # 1 year = 52 weeks\n",
        "        elif unit.lower() in ['d', 'days']:\n",
        "            return self.age * 365  # 1 year = 365 days\n",
        "        elif unit.lower() in ['h', 'hours']:\n",
        "            return self.age * 365 * 24  # 1 year = 365 days * 24 hours\n",
        "        elif unit.lower() in ['min', 'minutes']:\n",
        "            return self.age * 365 * 24 * 60  # 1 year = 365 days * 24 hours * 60 minutes\n",
        "        elif unit.lower() in ['s', 'seconds']:\n",
        "            return self.age * 365 * 24 * 60 * 60  # 1 year = 365 days * 24 hours * 60 minutes * 60 seconds\n",
        "        else:\n",
        "            return None\n",
        "\n",
        "# Main function to execute the program\n",
        "def main():\n",
        "    # Get user input for age\n",
        "    try:\n",
        "        age = int(input(\"What's your age? \"))\n",
        "    except ValueError:\n",
        "        print(\"Please enter a valid number for age.\")\n",
        "        return\n",
        "\n",
        "    # Get user input for the time unit\n",
        "    unit = input(\"Please choose time unit: Months, Weeks, Days, Hours, Minutes, Seconds.\\n\"\n",
        "                 \"Note: You can write the first letter or the full name of the time unit. \")\n",
        "\n",
        "    # Initialize the SurvivalDurationCalculator with the given age\n",
        "    calculator = SurvivalDurationCalculator(age)\n",
        "\n",
        "    # Calculate the duration based on the chosen unit\n",
        "    duration = calculator.calculate_duration(unit)\n",
        "\n",
        "    # Check if the unit was valid and print the result\n",
        "    if duration is not None:\n",
        "        print(f\"You have lived for {duration} {unit.capitalize()}s.\")\n",
        "    else:\n",
        "        print(\"Invalid time unit entered. Please try again with a valid unit.\")\n",
        "\n",
        "# Run the main function\n",
        "if __name__ == \"__main__\":\n",
        "    main()"
      ]
    }
  ]
}